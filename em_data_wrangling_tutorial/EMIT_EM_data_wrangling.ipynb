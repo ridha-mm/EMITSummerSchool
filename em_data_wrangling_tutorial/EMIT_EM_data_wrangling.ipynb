{
  "cells": [
    {
      "cell_type": "markdown",
      "metadata": {
        "id": "view-in-github",
        "colab_type": "text"
      },
      "source": [
        "<a href=\"https://colab.research.google.com/github/VanderbiltAstronomy/EMITSummerSchool/blob/main/em_data_wrangling_tutorial/EMIT_EM_data_wrangling.ipynb\" target=\"_parent\"><img src=\"https://colab.research.google.com/assets/colab-badge.svg\" alt=\"Open In Colab\"/></a>"
      ]
    },
    {
      "cell_type": "markdown",
      "id": "6b91d14c-df09-4f77-ad74-3455b6f51c6c",
      "metadata": {
        "id": "6b91d14c-df09-4f77-ad74-3455b6f51c6c"
      },
      "source": [
        "# Electromagnetic data wrangling\n",
        "\n",
        "*J. C. Runnoe, A. Stemo (2023)*\n",
        "\n",
        "Some material in this lecture and notebook is based upon the lectures of A. Myers and J. Runnoe's \"Data Mining in Large Astronomical Surveys\" class at the University of Wyoming and Vanderbilt University.\n",
        "\n",
        "---\n",
        "\n",
        "## Contents\n",
        "* [Reading in data](#one)\n",
        "* [Cross-matching](#two)\n",
        "* [Galactic extinction corrections](#three)\n",
        "* [Calculating luminosity](#four)\n",
        "* [Calculating mass](#five)\n",
        "* [Exercises](#six)\n",
        "    \n",
        "---"
      ]
    },
    {
      "cell_type": "markdown",
      "id": "038c8607-89d8-4194-9ca4-4f1c1243fb7a",
      "metadata": {
        "id": "038c8607-89d8-4194-9ca4-4f1c1243fb7a"
      },
      "source": [
        "Please pause for a few minutes and install these two packages: `sfdmaps` and `extinction`. You will also need to download the `sfddata` directory which has galactic dust maps in order to complete this lesson."
      ]
    },
    {
      "cell_type": "code",
      "execution_count": 1,
      "id": "e1fbd721-d6fb-4129-b6f5-196db87ea109",
      "metadata": {
        "colab": {
          "base_uri": "https://localhost:8080/"
        },
        "id": "e1fbd721-d6fb-4129-b6f5-196db87ea109",
        "outputId": "5c2db614-b50d-4209-c7ba-3885c07f55e7"
      },
      "outputs": [
        {
          "output_type": "stream",
          "name": "stdout",
          "text": [
            "Collecting sfdmap\n",
            "  Downloading sfdmap-0.1.1.tar.gz (8.6 kB)\n",
            "  Preparing metadata (setup.py) ... \u001b[?25l\u001b[?25hdone\n",
            "Requirement already satisfied: numpy in /usr/local/lib/python3.11/dist-packages (from sfdmap) (2.0.2)\n",
            "Building wheels for collected packages: sfdmap\n",
            "  Building wheel for sfdmap (setup.py) ... \u001b[?25l\u001b[?25hdone\n",
            "  Created wheel for sfdmap: filename=sfdmap-0.1.1-py3-none-any.whl size=5308 sha256=a1dc27ebeae8f3a213a9f2907e77a70bbd176f1a804e08713650f44782cfb7b9\n",
            "  Stored in directory: /root/.cache/pip/wheels/f6/bb/b5/ce7dec84e7a2714d523d9565d86bdc59aa7e87f3ef5820b7cd\n",
            "Successfully built sfdmap\n",
            "Installing collected packages: sfdmap\n",
            "Successfully installed sfdmap-0.1.1\n"
          ]
        }
      ],
      "source": [
        "!pip install sfdmap"
      ]
    },
    {
      "cell_type": "code",
      "execution_count": 2,
      "id": "06147a67-5aa0-4f0f-b644-b7dea24b9c5b",
      "metadata": {
        "colab": {
          "base_uri": "https://localhost:8080/"
        },
        "id": "06147a67-5aa0-4f0f-b644-b7dea24b9c5b",
        "outputId": "f064ca65-c84c-421f-fdb0-eb513ff9f9a1"
      },
      "outputs": [
        {
          "output_type": "stream",
          "name": "stdout",
          "text": [
            "Collecting extinction\n",
            "  Downloading extinction-0.4.7-cp311-cp311-manylinux_2_17_x86_64.manylinux2014_x86_64.whl.metadata (593 bytes)\n",
            "Requirement already satisfied: numpy>=1.13.3 in /usr/local/lib/python3.11/dist-packages (from extinction) (2.0.2)\n",
            "Downloading extinction-0.4.7-cp311-cp311-manylinux_2_17_x86_64.manylinux2014_x86_64.whl (600 kB)\n",
            "\u001b[2K   \u001b[90m━━━━━━━━━━━━━━━━━━━━━━━━━━━━━━━━━━━━━━━━\u001b[0m \u001b[32m600.1/600.1 kB\u001b[0m \u001b[31m8.0 MB/s\u001b[0m eta \u001b[36m0:00:00\u001b[0m\n",
            "\u001b[?25hInstalling collected packages: extinction\n",
            "Successfully installed extinction-0.4.7\n"
          ]
        }
      ],
      "source": [
        "!pip install extinction"
      ]
    },
    {
      "cell_type": "code",
      "execution_count": 3,
      "id": "35d72a75-fc55-44a3-accc-043dec3fa54c",
      "metadata": {
        "colab": {
          "base_uri": "https://localhost:8080/"
        },
        "id": "35d72a75-fc55-44a3-accc-043dec3fa54c",
        "outputId": "ad638b52-68ac-4cfe-840c-382d20dc31f3"
      },
      "outputs": [
        {
          "output_type": "stream",
          "name": "stdout",
          "text": [
            "Cloning into 'sfddata'...\n",
            "remote: Enumerating objects: 7, done.\u001b[K\n",
            "remote: Total 7 (delta 0), reused 0 (delta 0), pack-reused 7 (from 1)\u001b[K\n",
            "Receiving objects: 100% (7/7), 92.34 MiB | 15.51 MiB/s, done.\n",
            "Resolving deltas: 100% (1/1), done.\n",
            "Updating files: 100% (5/5), done.\n"
          ]
        }
      ],
      "source": [
        "!git clone https://github.com/kbarbary/sfddata"
      ]
    },
    {
      "cell_type": "code",
      "execution_count": 4,
      "id": "d0e66d88-2ab0-4a2f-bb2e-ec941977fd65",
      "metadata": {
        "id": "d0e66d88-2ab0-4a2f-bb2e-ec941977fd65"
      },
      "outputs": [],
      "source": [
        "import numpy as np\n",
        "from astropy import units as u\n",
        "from astropy.coordinates import SkyCoord\n",
        "import sfdmap\n",
        "import extinction\n",
        "import matplotlib as mpl\n",
        "import matplotlib.pyplot as plt\n",
        "%matplotlib inline"
      ]
    },
    {
      "cell_type": "code",
      "execution_count": 5,
      "id": "7b2270d1-c90d-4734-a865-1f328703dba4",
      "metadata": {
        "id": "7b2270d1-c90d-4734-a865-1f328703dba4"
      },
      "outputs": [],
      "source": [
        "# I like these options to make my plots pretty\n",
        "fontfamily = 'Times New Roman'\n",
        "mpl.rcParams['font.family'] = fontfamily\n",
        "mpl.rcParams['mathtext.fontset'] = 'stix'\n",
        "mpl.rc('text', usetex=True)\n",
        "mpl.rcParams['text.latex.preamble']=r\"\\usepackage{amsmath}\"\n",
        "plt.rc('xtick.major',pad=2)\n",
        "plt.rc('ytick.major',pad=2)\n",
        "plt.rc('xtick.minor',pad=2)\n",
        "plt.rc('ytick.minor',pad=2)\n",
        "plt.rc('xtick', labelsize=14)\n",
        "plt.rc('ytick', labelsize=14)\n",
        "plt.rc('font',size=10,weight='bold')\n",
        "plt.rcParams['axes.labelweight'] = 'bold'\n",
        "mpl.rcParams['figure.dpi'] = 300"
      ]
    },
    {
      "cell_type": "code",
      "execution_count": 6,
      "id": "8db63370-7329-4704-9e01-48bfa524df00",
      "metadata": {
        "id": "8db63370-7329-4704-9e01-48bfa524df00"
      },
      "outputs": [],
      "source": [
        "ra_hms  = '23h12m11s'\n",
        "dec_hms = '-41d12m13s'\n",
        "c = SkyCoord(ra_hms,dec_hms,unit=(u.hourangle,u.deg))"
      ]
    },
    {
      "cell_type": "markdown",
      "id": "2853d268-39c7-4ae6-80a1-9ef48ae7d754",
      "metadata": {
        "id": "2853d268-39c7-4ae6-80a1-9ef48ae7d754"
      },
      "source": [
        "## Reading in data <a class=\"anchor\" id=\"one\"></a>\n",
        "\n",
        "Reading and writing data is a fundamental computational task in astronomy, and there are many ways to do it. A generation ago when disk space was not as cheap, astronomers often invented data file formats in order to store their electromagnetic observations (ask me about `3ca` files). Now, while there are a variety of methods, your data will most likely appear in the `ascii` or `fits` formats. Two other formats you can investigate on your own are `npy` files and `pickles`.\n",
        "\n",
        "Try the cells below to read and write data of various kinds to your computer.\n",
        "\n",
        "#### Resources\n",
        "- [astropy](https://www.astropy.org) you should already have this\n",
        "- [astropy tables](https://docs.astropy.org/en/stable/table/#) documentation\n",
        "- [numpy.loadtxt](https://docs.scipy.org/doc/numpy/reference/generated/numpy.loadtxt.html) documentation\n",
        "- [numpy.savetxt](https://numpy.org/doc/stable/reference/generated/numpy.savetxt.html) documentation\n",
        "- [numpy.genfromtxt](https://docs.scipy.org/doc/numpy/reference/generated/numpy.genfromtxt.html) documentation\n",
        "- [PyFITS -  (astro) industry standard fits file handler](https://docs.astropy.org/en/stable/io/fits/)\n",
        "- [PyFITS documentation from STScI](http://stsdas.stsci.edu/download/wikidocs/The_PyFITS_Handbook.pdf)\n",
        "- [Why did astropy adopt PyFITS?](https://docs.astropy.org/en/stable/io/fits/appendix/faq.html#comparison-with-other-fits-readers)\n",
        "- [More than you ever wanted to know about the FITS standard](https://fits.gsfc.nasa.gov/fits_standard.html)\n",
        "- [What are rec arrays?](https://jakevdp.github.io/PythonDataScienceHandbook/02.09-structured-data-numpy.html)\n",
        "- [Pickling](https://docs.python.org/3/library/pickle.html)"
      ]
    },
    {
      "cell_type": "code",
      "execution_count": 7,
      "id": "fba9500f-ff08-4d1a-8a1e-0cfe107d65f4",
      "metadata": {
        "id": "fba9500f-ff08-4d1a-8a1e-0cfe107d65f4"
      },
      "outputs": [],
      "source": [
        "import numpy as np\n",
        "from astropy.io import ascii\n",
        "from astropy.table import Table\n",
        "from astropy.io import fits"
      ]
    },
    {
      "cell_type": "code",
      "execution_count": 8,
      "id": "2b669502-21ff-4db3-b9d7-67b93ea1cdcf",
      "metadata": {
        "colab": {
          "base_uri": "https://localhost:8080/",
          "height": 143
        },
        "id": "2b669502-21ff-4db3-b9d7-67b93ea1cdcf",
        "outputId": "335c6752-2a3a-477f-c0d2-988fdeb943f3"
      },
      "outputs": [
        {
          "output_type": "execute_result",
          "data": {
            "text/plain": [
              "<Table length=3>\n",
              "  x     y  \n",
              "int32 int32\n",
              "----- -----\n",
              "    5   125\n",
              "   10  1000\n",
              "   20  8000"
            ],
            "text/html": [
              "<div><i>Table length=3</i>\n",
              "<table id=\"table133948490794192\" class=\"table-striped table-bordered table-condensed\">\n",
              "<thead><tr><th>x</th><th>y</th></tr></thead>\n",
              "<thead><tr><th>int32</th><th>int32</th></tr></thead>\n",
              "<tr><td>5</td><td>125</td></tr>\n",
              "<tr><td>10</td><td>1000</td></tr>\n",
              "<tr><td>20</td><td>8000</td></tr>\n",
              "</table></div>"
            ]
          },
          "metadata": {},
          "execution_count": 8
        }
      ],
      "source": [
        "# make fake data\n",
        "# save it in an astropy Table\n",
        "data_write = Table()\n",
        "data_write['x'] = np.array([5,10,20], dtype=np.int32)\n",
        "data_write['y'] = data_write['x'] ** 3\n",
        "data_write"
      ]
    },
    {
      "cell_type": "code",
      "execution_count": 9,
      "id": "cb675389-66f5-4500-b490-3082a7b27c73",
      "metadata": {
        "colab": {
          "base_uri": "https://localhost:8080/",
          "height": 143
        },
        "id": "cb675389-66f5-4500-b490-3082a7b27c73",
        "outputId": "d4626907-5150-4033-f59e-e54305a27ec3"
      },
      "outputs": [
        {
          "output_type": "execute_result",
          "data": {
            "text/plain": [
              "<Table length=3>\n",
              "  x     y  \n",
              "int64 int64\n",
              "----- -----\n",
              "    5   125\n",
              "   10  1000\n",
              "   20  8000"
            ],
            "text/html": [
              "<div><i>Table length=3</i>\n",
              "<table id=\"table133948763629008\" class=\"table-striped table-bordered table-condensed\">\n",
              "<thead><tr><th>x</th><th>y</th></tr></thead>\n",
              "<thead><tr><th>int64</th><th>int64</th></tr></thead>\n",
              "<tr><td>5</td><td>125</td></tr>\n",
              "<tr><td>10</td><td>1000</td></tr>\n",
              "<tr><td>20</td><td>8000</td></tr>\n",
              "</table></div>"
            ]
          },
          "metadata": {},
          "execution_count": 9
        }
      ],
      "source": [
        "# ASCII\n",
        "# writing using astropy.io.ascii\n",
        "ascii.write(data_write, 'ascii_table.dat', overwrite=True)\n",
        "\n",
        "# reading using astropy.io.ascii\n",
        "data_read = ascii.read('ascii_table.dat')\n",
        "data_read"
      ]
    },
    {
      "cell_type": "code",
      "execution_count": 10,
      "id": "6ab64202-60d9-479c-9052-a7e526158824",
      "metadata": {
        "colab": {
          "base_uri": "https://localhost:8080/"
        },
        "id": "6ab64202-60d9-479c-9052-a7e526158824",
        "outputId": "2ca452e4-55f2-4d83-af98-a0b897343a23"
      },
      "outputs": [
        {
          "output_type": "execute_result",
          "data": {
            "text/plain": [
              "(array([ 5., 10., 20.]), array([ 125., 1000., 8000.]))"
            ]
          },
          "metadata": {},
          "execution_count": 10
        }
      ],
      "source": [
        "# read using np.genfromtxt\n",
        "x,y  = np.genfromtxt('ascii_table.dat',unpack=True,usecols=(0,1),skip_header=1)\n",
        "x,y"
      ]
    },
    {
      "cell_type": "code",
      "execution_count": 11,
      "id": "c1f2faad-ad9c-4054-ac97-9c18baaf8de6",
      "metadata": {
        "id": "c1f2faad-ad9c-4054-ac97-9c18baaf8de6"
      },
      "outputs": [],
      "source": [
        "# write using np.savetxt (gotta be honest, this is a bit cumbersome)\n",
        "data_to_write = [i for i in zip(x,y)]\n",
        "np.savetxt('ascii_table_np.dat',data_to_write,fmt='%1.0f',header=' x  y', delimiter=' ',comments='', newline='\\n ')"
      ]
    },
    {
      "cell_type": "code",
      "execution_count": 12,
      "id": "cbbbbbbb-ed2c-4b28-894e-4a23cb0d0bdd",
      "metadata": {
        "id": "cbbbbbbb-ed2c-4b28-894e-4a23cb0d0bdd"
      },
      "outputs": [],
      "source": [
        "# write using fits\n",
        "# first you have to package the data in a fits header data unit (HDU)\n",
        "data_fits = fits.BinTableHDU(data_write)\n",
        "data_fits.writeto('fits_table.fits',overwrite=True)"
      ]
    },
    {
      "cell_type": "code",
      "execution_count": 13,
      "id": "cdc60f9f-b701-4f19-9208-65b2717a8550",
      "metadata": {
        "colab": {
          "base_uri": "https://localhost:8080/"
        },
        "id": "cdc60f9f-b701-4f19-9208-65b2717a8550",
        "outputId": "d075ec95-8c5e-4e9d-8516-3f7a07394d39"
      },
      "outputs": [
        {
          "output_type": "stream",
          "name": "stdout",
          "text": [
            "Filename: fits_table.fits\n",
            "No.    Name      Ver    Type      Cards   Dimensions   Format\n",
            "  0  PRIMARY       1 PrimaryHDU       4   ()      \n",
            "  1                1 BinTableHDU     12   3R x 2C   [J, J]   \n"
          ]
        }
      ],
      "source": [
        "# read in using fits\n",
        "# you can explore a bit after doing this, which is handy with astronomical data but not that interesting now\n",
        "hdu = fits.open('fits_table.fits')\n",
        "hdu.info()"
      ]
    },
    {
      "cell_type": "code",
      "execution_count": 14,
      "id": "2bc376f2-0d81-4a34-808e-58dca502264c",
      "metadata": {
        "colab": {
          "base_uri": "https://localhost:8080/"
        },
        "id": "2bc376f2-0d81-4a34-808e-58dca502264c",
        "outputId": "30fac11a-f7fb-4060-935a-b2d852a7480f"
      },
      "outputs": [
        {
          "output_type": "execute_result",
          "data": {
            "text/plain": [
              "SIMPLE  =                    T / conforms to FITS standard                      \n",
              "BITPIX  =                    8 / array data type                                \n",
              "NAXIS   =                    0 / number of array dimensions                     \n",
              "EXTEND  =                    T                                                  "
            ]
          },
          "metadata": {},
          "execution_count": 14
        }
      ],
      "source": [
        "hdu[0].header"
      ]
    },
    {
      "cell_type": "code",
      "execution_count": 15,
      "id": "49e8f753-4e84-434c-91d7-1b2e1ded8b1e",
      "metadata": {
        "colab": {
          "base_uri": "https://localhost:8080/"
        },
        "id": "49e8f753-4e84-434c-91d7-1b2e1ded8b1e",
        "outputId": "c5d72276-0dcf-4476-8acc-530224f736dc"
      },
      "outputs": [
        {
          "output_type": "execute_result",
          "data": {
            "text/plain": [
              "(FITS_rec([(5, 125), (10, 1000), (20, 8000)],\n",
              "          dtype=(numpy.record, [('x', '>i4'), ('y', '>i4')])),\n",
              " array([ 5, 10, 20], dtype='>i4'))"
            ]
          },
          "metadata": {},
          "execution_count": 15
        }
      ],
      "source": [
        "# your data are here\n",
        "# they come back in something called a 'rec array'\n",
        "data_from_fits = hdu[1].data\n",
        "data_from_fits, data_from_fits['x']"
      ]
    },
    {
      "cell_type": "markdown",
      "id": "b858b001-a14a-43a8-a1cf-703eaa1b463e",
      "metadata": {
        "id": "b858b001-a14a-43a8-a1cf-703eaa1b463e"
      },
      "source": [
        "## Cross-matching data <a class=\"anchor\" id=\"two\"></a>\n",
        "\n",
        "Finding the angular distance between two objects on the sky is a very common problem in astronomy. However, finding multiple distances on the sphere can quickly become difficult and computationally expensive.\n",
        "\n",
        "Consider an astronomical survey with 1 million galaxies: if you need the distances between all of them, this is $(1$ million$ \\times 999999)/2$ distances! Often, you won't care about all $\\sim5 \\times 10^{11}$ distances, you may only want to measure distances between objects are close on the sky, perhaps within a $1^{\\circ}\\times1^{\\circ}$ field of view. This is where indexing schemes become useful.\n",
        "\n",
        "#### The problem in a nutshell\n",
        "\n",
        "**<font color='red'>Find all pairs of points that are separated by <100m</font>.**\n",
        "![indexing](https://github.com/VanderbiltAstronomy/EMITSummerSchool/blob/main/em_data_wrangling_tutorial/figs/index1.png?raw=1)\n",
        "\n",
        "To do this, first divide your region into four equal pixels and number them 1-4.\n",
        "\n",
        "![indexing](https://github.com/VanderbiltAstronomy/EMITSummerSchool/blob/main/em_data_wrangling_tutorial/figs/index2.png?raw=1)\n",
        "\n",
        "Then further divide each pixel into four and label them according to their original pixel, plus the new sub-pixel. Each point in a pixel is assigned the pixel name, so the three points in pixel 22 are all labeled 22.\n",
        "\n",
        "![indexing](https://github.com/VanderbiltAstronomy/EMITSummerSchool/blob/main/em_data_wrangling_tutorial/figs/index3.png?raw=1)\n",
        "\n",
        "As you progress hierarchically down the tree to the next “level”, you quadruple the number of pixels and the label or “index” grows by one integer. Eventually, each point has a unique index (is in its own pixel) and you can stop building the tree. If empty pixels are then discarded, you have exactly as many pixels as points. The pixel size is known at each level, so if only points separated by, e.g., 100m, are needed, then only some subset of points in adjacent pixels need to be considered.\n",
        "\n",
        "This is called a quad tree. Tree structures are desirable for a number of reasons:\n",
        "- Recursive bisection is a very rapid algorithm.\n",
        "- The indexing is simple and easy to store as an integer.\n",
        "- Because each dimension is always being halved, the area and/or dimensions of each pixel are easy to track. This means that the separation between pixels at each level is easy to calculate.\n",
        "\n",
        "Several sophisticated tree structures are used for indexing in astronomy, with one goal being to rapidly find adjacent points in a large amount of data.\n",
        "\n",
        "#### Cross-matching\n",
        "\n",
        "A useful routine in astropy that uses a tree scheme to rapidly perform distance measurements on the sphere is the `search_around_sky` procedure. `search_around_sky` uses a k-dimensional (or k-d) tree to pixelate the sky. A k-d tree essentially recursively bisects a dataset perpendicular to each coordinate axis (e.g. bisects in Cartesian x, y, z in turn; see the resource link). Bisections occur close to the median data point along a coordinate axis, so that on each split, about half of the data ends up in each “child” pixel.\n",
        "\n",
        "Coordinate matching is easily my single most-used routine for data manipulation in large surveys. Execute the cells below to practice finding data within some sepration of a point and cross-matching surveys.\n",
        "\n",
        "#### Resources\n",
        "- [The k-d tree](https://en.wikipedia.org/wiki/K-d_tree)\n",
        "- [astropy and 2-D distances on the sphere](http://docs.astropy.org/en/stable/coordinates/#convenience-methods)[astropy and 2-D distances on the sphere]\n",
        "- [Matching a set of points to another set of points](http://docs.astropy.org/en/stable/coordinates/matchsep.html#searching-around-coordinates)"
      ]
    },
    {
      "cell_type": "markdown",
      "id": "8f83c99e-532c-496d-b49d-c7ceb6c25e98",
      "metadata": {
        "id": "8f83c99e-532c-496d-b49d-c7ceb6c25e98"
      },
      "source": [
        "One common use of separation is to take two sets of object coordinates in arrays [ra1], [dec1] and [ra2], [dec2] and find angular distances between the objects."
      ]
    },
    {
      "cell_type": "code",
      "execution_count": 16,
      "id": "c73ecfcf-21c0-41a8-813b-e16aba5b25e5",
      "metadata": {
        "colab": {
          "base_uri": "https://localhost:8080/",
          "height": 87
        },
        "id": "c73ecfcf-21c0-41a8-813b-e16aba5b25e5",
        "outputId": "c03a626b-be32-48c2-831d-b19d6e34e05a"
      },
      "outputs": [
        {
          "output_type": "execute_result",
          "data": {
            "text/plain": [
              "<Angle [10.        , 10.        , 11.        ,  1.73434482] deg>"
            ],
            "text/latex": "[$10^\\circ00{}^\\prime00{}^{\\prime\\prime}$\n $10^\\circ00{}^\\prime00{}^{\\prime\\prime}$\n $11^\\circ00{}^\\prime00{}^{\\prime\\prime}$\n $1^\\circ44{}^\\prime03.64134537{}^{\\prime\\prime}$]"
          },
          "metadata": {},
          "execution_count": 16
        }
      ],
      "source": [
        "ra1, dec1 = [8.,9.,10.,8.]*u.degree,[0.,0.,0.,80.]*u.degree\n",
        "ra2, dec2 = [18.,19.,21.,18.]*u.degree,[0.,0.,0.,80.]*u.degree\n",
        "c1 = SkyCoord(ra1, dec1, frame='icrs')\n",
        "c2 = SkyCoord(ra2, dec2, frame='icrs')\n",
        "c1.separation(c2)"
      ]
    },
    {
      "cell_type": "markdown",
      "id": "15596a01-d0cc-4b3c-b8fc-680ade2629a8",
      "metadata": {
        "id": "15596a01-d0cc-4b3c-b8fc-680ade2629a8"
      },
      "source": [
        "The result here is an angle, because because [8.,0.] is separated from [18.,0.] by 10$^{circ}$ and [10.,0.] is separated from [21.,0.] by 11$^{\\circ}$ etc. Note that you cannot simply take the difference due to the spherical geometry of the sky.\n",
        "\n",
        "A second use of separation is to take a single point in the sky and find all objects within some distance of it. This is useful, e.g., if you are following-up a “circular” area on the sky with a spectroscopic plate. Say I’m placing a 1.5$^{\\circ}$ radius plate at $\\alpha = 20^{\\circ}$, $\\delta=0^{\\circ}$ and I want to know which objects in the sky will fall on it."
      ]
    },
    {
      "cell_type": "code",
      "execution_count": 17,
      "id": "3b6f2249-270d-4e68-b720-0dd6f00c0418",
      "metadata": {
        "colab": {
          "base_uri": "https://localhost:8080/"
        },
        "id": "3b6f2249-270d-4e68-b720-0dd6f00c0418",
        "outputId": "6043deeb-8e39-4f18-863c-160aa3eb653b"
      },
      "outputs": [
        {
          "output_type": "execute_result",
          "data": {
            "text/plain": [
              "(array([1, 2]),)"
            ]
          },
          "metadata": {},
          "execution_count": 17
        }
      ],
      "source": [
        "ra1, dec1 = [20.]*u.degree,[0.]*u.degree\n",
        "ra2, dec2 = [18.,19.,21.]*u.degree,[0.,0.,0.]*u.degree\n",
        "c1 = SkyCoord(ra1, dec1, frame='icrs')\n",
        "c2 = SkyCoord(ra2, dec2, frame='icrs')\n",
        "w = np.where(c1.separation(c2) < 1.5*u.degree)\n",
        "w"
      ]
    },
    {
      "cell_type": "markdown",
      "id": "03eefccd-e3cc-4d7a-af62-35143adeb489",
      "metadata": {
        "id": "03eefccd-e3cc-4d7a-af62-35143adeb489"
      },
      "source": [
        "Here, w is array([1, 2]) because the 1st and 2nd points are within 1.5$^{\\circ}$ of $\\alpha = 20^{\\circ}$, $\\delta=0^{\\circ}$.\n",
        "\n",
        "You can also match all of a set of points to all of a second set using SkyCoord’s search_around_sky method:\n"
      ]
    },
    {
      "cell_type": "code",
      "execution_count": 18,
      "id": "4b6a1e05-c6d0-448c-bfc1-fd7adb2f0053",
      "metadata": {
        "colab": {
          "base_uri": "https://localhost:8080/"
        },
        "id": "4b6a1e05-c6d0-448c-bfc1-fd7adb2f0053",
        "outputId": "6cb796ad-fbc1-485e-cf6c-a65533655a77"
      },
      "outputs": [
        {
          "output_type": "execute_result",
          "data": {
            "text/plain": [
              "(array([1, 2, 2]), array([0, 0, 1]))"
            ]
          },
          "metadata": {},
          "execution_count": 18
        }
      ],
      "source": [
        "ra1, dec1 = [8.,9.,10.]*u.degree,[0.,0.,0.]*u.degree\n",
        "ra2, dec2 = [18.,19.,21.]*u.degree,[0.,0.,0.]*u.degree\n",
        "c1 = SkyCoord(ra1, dec1, frame='icrs')\n",
        "c2 = SkyCoord(ra2, dec2, frame='icrs')\n",
        "id1, id2, d2, d3 = c2.search_around_sky(c1, 9.1*u.deg)\n",
        "id1,id2"
      ]
    },
    {
      "cell_type": "markdown",
      "id": "1875739d-00a1-4993-92be-cca1b6e3aaf3",
      "metadata": {
        "id": "1875739d-00a1-4993-92be-cca1b6e3aaf3"
      },
      "source": [
        "The result is id1 = [1, 2, 2] and id2 = [0, 0, 1] because [9.,0.] is separated from [18.,0.] by < 9.1$^{\\circ}$ and [10.,0.] is separated from [18.,0.] by < 9.1$^{\\circ}$ and [10.,0.] is separated from [19.,0.] by < 9.1$^{\\circ}$."
      ]
    },
    {
      "cell_type": "markdown",
      "id": "787aca0b-c975-4b5a-82c3-5115662cbe76",
      "metadata": {
        "id": "787aca0b-c975-4b5a-82c3-5115662cbe76"
      },
      "source": [
        "## Galactic extinction corrections <a class=\"anchor\" id=\"three\"></a>\n",
        "\n",
        "Robert Trumpler first\n",
        " confirmed the existence\n",
        "of interstellar dust ([1930](http://articles.adsabs.harvard.edu/cgi-bin/nph-iarticle_query?1930LicOB..14..154T&amp;data_type=PDF_HIGH&amp;whole_paper=YES&amp;type=PRINTER&amp;filetype=.pdf);\n",
        "see resource link and, in\n",
        "particular, point 5 of the\n",
        "Summary on page 187) when he noticed that\n",
        "open star clusters of the\n",
        "same general apparent size had different brightnesses. Either the real size of clusters increases farther from the Earth (i.e. the Earth is in a special location), or stars become progressively fainter at larger distances. Absorption by interstellar dust would make stars progressively fainter with distance from the Earth.\n",
        "\n",
        "At the time of writing this lecture, the third most\n",
        "cited journal paper ([Schlegel et al. 1998](http://adsabs.harvard.edu/abs/1998ApJ...500..525S)) in\n",
        "astronomy dealt with\n",
        "the careful mapping\n",
        "of interstellar dust. The reason it is so highly cited is that any measurement of the flux (or magnitude) from extragalactic sources must corrected for foreground absorption by dust in our Galaxy.\n",
        "\n",
        "To correct a magnitude for dust, subtract the extinction ($A$) in that band:\n",
        "\n",
        "$m_{true} = m_{observed} - A$\n",
        "\n",
        "The extinction is obtained by using a dust map to tell you the amount of extinction along the line of sight to the $\\alpha,\\delta$ position of your extragalactic target. The dust maps typically return the color excess $E(B-V) = (B-V)-(B-V)_{0}$, a measure of the amount of reddening along the line of sight. This can be converted to the extinction in the visible band:\n",
        "\n",
        "$A_{V} = R_{V} \\times E(B-V)$, where $R_{V}=3.1$ in the Milky Way.\n",
        "\n",
        "Note that magnitudes must always be corrected for extinction in the correct band. Dust extinction is wavelength dependent, so you will need an extinction law to translate from $V$ to any other band. This is done with an extinction correction. There are a variety of laws, which differ depending on the composition of the dust and may be relevant in different science applications.\n",
        "\n",
        "![extinction law](https://extinction.readthedocs.io/en/latest/index-1.png)\n",
        "\n",
        "For Milky Way extinction corrections, we will use the Fitzpatrick et al. (1999) law.\n",
        "\n",
        "#### Resources\n",
        "- [Github page for sfdmap package](https://github.com/kbarbary/sfdmap)\n",
        "- [Github page for SFD dust maps in fits format](https://github.com/kbarbary/sfddata)\n",
        "- [Github page for extinction package](https://github.com/kbarbary/extinction)\n",
        "- [Dust Maps; Schlegel, Finkbeiner & Davis (1998) -- webpage](http://irsa.ipac.caltech.edu/applications/DUST/docs/background.html)\n",
        "- [Equations for interstellar reddening](http://astronomy.swin.edu.au/cosmos/I/Interstellar+Reddening)"
      ]
    },
    {
      "cell_type": "code",
      "execution_count": 19,
      "id": "46e7185f-1fec-49d8-84ec-41a6f9b71acf",
      "metadata": {
        "colab": {
          "base_uri": "https://localhost:8080/",
          "height": 447
        },
        "id": "46e7185f-1fec-49d8-84ec-41a6f9b71acf",
        "outputId": "24ee842f-abe1-47da-e263-873cc43efaac"
      },
      "outputs": [
        {
          "output_type": "error",
          "ename": "AttributeError",
          "evalue": "module 'numpy' has no attribute 'int'.\n`np.int` was a deprecated alias for the builtin `int`. To avoid this error in existing code, use `int` by itself. Doing this will not modify any behavior and is safe. When replacing `np.int`, you may wish to use e.g. `np.int64` or `np.int32` to specify the precision. If you wish to review your current use, check the release note link for additional information.\nThe aliases was originally deprecated in NumPy 1.20; for more details and guidance see the original release note at:\n    https://numpy.org/devdocs/release/1.20.0-notes.html#deprecations",
          "traceback": [
            "\u001b[0;31m---------------------------------------------------------------------------\u001b[0m",
            "\u001b[0;31mAttributeError\u001b[0m                            Traceback (most recent call last)",
            "\u001b[0;32m/tmp/ipython-input-19-1510725427.py\u001b[0m in \u001b[0;36m<cell line: 0>\u001b[0;34m()\u001b[0m\n\u001b[1;32m      7\u001b[0m \u001b[0mdustdir\u001b[0m \u001b[0;34m=\u001b[0m \u001b[0;34m'./sfddata/'\u001b[0m \u001b[0;31m# edit this to point to the sfddata/ directory on YOUR computer\u001b[0m\u001b[0;34m\u001b[0m\u001b[0;34m\u001b[0m\u001b[0m\n\u001b[1;32m      8\u001b[0m \u001b[0mm\u001b[0m \u001b[0;34m=\u001b[0m \u001b[0msfdmap\u001b[0m\u001b[0;34m.\u001b[0m\u001b[0mSFDMap\u001b[0m\u001b[0;34m(\u001b[0m\u001b[0mdustdir\u001b[0m\u001b[0;34m,\u001b[0m \u001b[0mscaling\u001b[0m\u001b[0;34m=\u001b[0m\u001b[0;36m1\u001b[0m\u001b[0;34m)\u001b[0m\u001b[0;34m\u001b[0m\u001b[0;34m\u001b[0m\u001b[0m\n\u001b[0;32m----> 9\u001b[0;31m \u001b[0mebv\u001b[0m \u001b[0;34m=\u001b[0m \u001b[0mm\u001b[0m\u001b[0;34m.\u001b[0m\u001b[0mebv\u001b[0m\u001b[0;34m(\u001b[0m\u001b[0mc\u001b[0m\u001b[0;34m.\u001b[0m\u001b[0ml\u001b[0m\u001b[0;34m.\u001b[0m\u001b[0mvalue\u001b[0m\u001b[0;34m,\u001b[0m\u001b[0mc\u001b[0m\u001b[0;34m.\u001b[0m\u001b[0mb\u001b[0m\u001b[0;34m.\u001b[0m\u001b[0mvalue\u001b[0m\u001b[0;34m,\u001b[0m \u001b[0mframe\u001b[0m\u001b[0;34m=\u001b[0m\u001b[0;34m'galactic'\u001b[0m\u001b[0;34m)\u001b[0m\u001b[0;34m\u001b[0m\u001b[0;34m\u001b[0m\u001b[0m\n\u001b[0m\u001b[1;32m     10\u001b[0m \u001b[0;34m\u001b[0m\u001b[0m\n\u001b[1;32m     11\u001b[0m \u001b[0;31m# JCR or you can do it without converting to Galactic coordinates\u001b[0m\u001b[0;34m\u001b[0m\u001b[0;34m\u001b[0m\u001b[0m\n",
            "\u001b[0;32m/usr/local/lib/python3.11/dist-packages/sfdmap.py\u001b[0m in \u001b[0;36mebv\u001b[0;34m(self, *args, **kwargs)\u001b[0m\n\u001b[1;32m    326\u001b[0m                 \u001b[0mself\u001b[0m\u001b[0;34m.\u001b[0m\u001b[0mhemispheres\u001b[0m\u001b[0;34m[\u001b[0m\u001b[0mpole\u001b[0m\u001b[0;34m]\u001b[0m \u001b[0;34m=\u001b[0m \u001b[0m_Hemisphere\u001b[0m\u001b[0;34m(\u001b[0m\u001b[0mfname\u001b[0m\u001b[0;34m,\u001b[0m \u001b[0mself\u001b[0m\u001b[0;34m.\u001b[0m\u001b[0mscaling\u001b[0m\u001b[0;34m)\u001b[0m\u001b[0;34m\u001b[0m\u001b[0;34m\u001b[0m\u001b[0m\n\u001b[1;32m    327\u001b[0m \u001b[0;34m\u001b[0m\u001b[0m\n\u001b[0;32m--> 328\u001b[0;31m             values[mask] = self.hemispheres[pole].ebv(l[mask], b[mask],\n\u001b[0m\u001b[1;32m    329\u001b[0m                                                       interpolate)\n\u001b[1;32m    330\u001b[0m \u001b[0;34m\u001b[0m\u001b[0m\n",
            "\u001b[0;32m/usr/local/lib/python3.11/dist-packages/sfdmap.py\u001b[0m in \u001b[0;36mebv\u001b[0;34m(self, l, b, interpolate)\u001b[0m\n\u001b[1;32m    166\u001b[0m         \u001b[0;31m# Get map values at these pixel coordinates.\u001b[0m\u001b[0;34m\u001b[0m\u001b[0;34m\u001b[0m\u001b[0m\n\u001b[1;32m    167\u001b[0m         \u001b[0;32mif\u001b[0m \u001b[0minterpolate\u001b[0m\u001b[0;34m:\u001b[0m\u001b[0;34m\u001b[0m\u001b[0;34m\u001b[0m\u001b[0m\n\u001b[0;32m--> 168\u001b[0;31m             \u001b[0;32mreturn\u001b[0m \u001b[0m_bilinear_interpolate\u001b[0m\u001b[0;34m(\u001b[0m\u001b[0mself\u001b[0m\u001b[0;34m.\u001b[0m\u001b[0mdata\u001b[0m\u001b[0;34m,\u001b[0m \u001b[0my\u001b[0m\u001b[0;34m,\u001b[0m \u001b[0mx\u001b[0m\u001b[0;34m)\u001b[0m\u001b[0;34m\u001b[0m\u001b[0;34m\u001b[0m\u001b[0m\n\u001b[0m\u001b[1;32m    169\u001b[0m         \u001b[0;32melse\u001b[0m\u001b[0;34m:\u001b[0m\u001b[0;34m\u001b[0m\u001b[0;34m\u001b[0m\u001b[0m\n\u001b[1;32m    170\u001b[0m             \u001b[0mx\u001b[0m \u001b[0;34m=\u001b[0m \u001b[0mnp\u001b[0m\u001b[0;34m.\u001b[0m\u001b[0mround\u001b[0m\u001b[0;34m(\u001b[0m\u001b[0mx\u001b[0m\u001b[0;34m)\u001b[0m\u001b[0;34m.\u001b[0m\u001b[0mastype\u001b[0m\u001b[0;34m(\u001b[0m\u001b[0mnp\u001b[0m\u001b[0;34m.\u001b[0m\u001b[0mint\u001b[0m\u001b[0;34m)\u001b[0m\u001b[0;34m\u001b[0m\u001b[0;34m\u001b[0m\u001b[0m\n",
            "\u001b[0;32m/usr/local/lib/python3.11/dist-packages/sfdmap.py\u001b[0m in \u001b[0;36m_bilinear_interpolate\u001b[0;34m(data, y, x)\u001b[0m\n\u001b[1;32m    123\u001b[0m \u001b[0;34m\u001b[0m\u001b[0m\n\u001b[1;32m    124\u001b[0m     \u001b[0;31m# pixel locations\u001b[0m\u001b[0;34m\u001b[0m\u001b[0;34m\u001b[0m\u001b[0m\n\u001b[0;32m--> 125\u001b[0;31m     \u001b[0my0\u001b[0m \u001b[0;34m=\u001b[0m \u001b[0myfloor\u001b[0m\u001b[0;34m.\u001b[0m\u001b[0mastype\u001b[0m\u001b[0;34m(\u001b[0m\u001b[0mnp\u001b[0m\u001b[0;34m.\u001b[0m\u001b[0mint\u001b[0m\u001b[0;34m)\u001b[0m\u001b[0;34m\u001b[0m\u001b[0;34m\u001b[0m\u001b[0m\n\u001b[0m\u001b[1;32m    126\u001b[0m     \u001b[0my1\u001b[0m \u001b[0;34m=\u001b[0m \u001b[0my0\u001b[0m \u001b[0;34m+\u001b[0m \u001b[0;36m1\u001b[0m\u001b[0;34m\u001b[0m\u001b[0;34m\u001b[0m\u001b[0m\n\u001b[1;32m    127\u001b[0m     \u001b[0mx0\u001b[0m \u001b[0;34m=\u001b[0m \u001b[0mxfloor\u001b[0m\u001b[0;34m.\u001b[0m\u001b[0mastype\u001b[0m\u001b[0;34m(\u001b[0m\u001b[0mnp\u001b[0m\u001b[0;34m.\u001b[0m\u001b[0mint\u001b[0m\u001b[0;34m)\u001b[0m\u001b[0;34m\u001b[0m\u001b[0;34m\u001b[0m\u001b[0m\n",
            "\u001b[0;32m/usr/local/lib/python3.11/dist-packages/numpy/__init__.py\u001b[0m in \u001b[0;36m__getattr__\u001b[0;34m(attr)\u001b[0m\n\u001b[1;32m    392\u001b[0m \u001b[0;34m\u001b[0m\u001b[0m\n\u001b[1;32m    393\u001b[0m         \u001b[0;32mif\u001b[0m \u001b[0mattr\u001b[0m \u001b[0;32min\u001b[0m \u001b[0m__former_attrs__\u001b[0m\u001b[0;34m:\u001b[0m\u001b[0;34m\u001b[0m\u001b[0;34m\u001b[0m\u001b[0m\n\u001b[0;32m--> 394\u001b[0;31m             \u001b[0;32mraise\u001b[0m \u001b[0mAttributeError\u001b[0m\u001b[0;34m(\u001b[0m\u001b[0m__former_attrs__\u001b[0m\u001b[0;34m[\u001b[0m\u001b[0mattr\u001b[0m\u001b[0;34m]\u001b[0m\u001b[0;34m)\u001b[0m\u001b[0;34m\u001b[0m\u001b[0;34m\u001b[0m\u001b[0m\n\u001b[0m\u001b[1;32m    395\u001b[0m \u001b[0;34m\u001b[0m\u001b[0m\n\u001b[1;32m    396\u001b[0m         \u001b[0;32mif\u001b[0m \u001b[0mattr\u001b[0m \u001b[0;32min\u001b[0m \u001b[0m__expired_attributes__\u001b[0m\u001b[0;34m:\u001b[0m\u001b[0;34m\u001b[0m\u001b[0;34m\u001b[0m\u001b[0m\n",
            "\u001b[0;31mAttributeError\u001b[0m: module 'numpy' has no attribute 'int'.\n`np.int` was a deprecated alias for the builtin `int`. To avoid this error in existing code, use `int` by itself. Doing this will not modify any behavior and is safe. When replacing `np.int`, you may wish to use e.g. `np.int64` or `np.int32` to specify the precision. If you wish to review your current use, check the release note link for additional information.\nThe aliases was originally deprecated in NumPy 1.20; for more details and guidance see the original release note at:\n    https://numpy.org/devdocs/release/1.20.0-notes.html#deprecations"
          ]
        }
      ],
      "source": [
        "# JCR set up some coordinates\n",
        "ra, dec = '00h42m30s', '+41d12m00s'\n",
        "c       = SkyCoord(ra, dec).galactic\n",
        "\n",
        "# JCR obtain the reddening at this position in the dust maps\n",
        "import sfdmap\n",
        "dustdir = './sfddata/' # edit this to point to the sfddata/ directory on YOUR computer\n",
        "m = sfdmap.SFDMap(dustdir, scaling=1)\n",
        "ebv = m.ebv(c.l.value,c.b.value, frame='galactic')\n",
        "\n",
        "# JCR or you can do it without converting to Galactic coordinates\n",
        "ra, dec = '00h42m30s', '+41d12m00s'\n",
        "c = SkyCoord(ra, dec)\n",
        "ebv = m.ebv(c.ra.value,c.dec.value)"
      ]
    },
    {
      "cell_type": "markdown",
      "id": "a146c114-bf6b-49c2-8610-2c7b65938520",
      "metadata": {
        "id": "a146c114-bf6b-49c2-8610-2c7b65938520"
      },
      "source": [
        "Finding extinction requires wavelengths and a dust-law from the extinction package. Install the extinction package:"
      ]
    },
    {
      "cell_type": "markdown",
      "id": "db7b985d-7af9-4ec5-94a6-4c553ca8c39a",
      "metadata": {
        "id": "db7b985d-7af9-4ec5-94a6-4c553ca8c39a"
      },
      "source": [
        "To find rough extinctions for the SDSS ugriz filters:"
      ]
    },
    {
      "cell_type": "code",
      "execution_count": null,
      "id": "c7ece7f5-70dc-45ec-b3c9-c3e72a457368",
      "metadata": {
        "id": "c7ece7f5-70dc-45ec-b3c9-c3e72a457368"
      },
      "outputs": [],
      "source": [
        "wave = np.array([3543., 4770., 6231, 7625., 9134.]) # rough wavelength of SDSS filter centers\n",
        "A = extinction.fitzpatrick99(wave, 3.1*ebv)"
      ]
    },
    {
      "cell_type": "code",
      "execution_count": null,
      "id": "0d37e6d2-6fa6-4669-b639-7d229f57416e",
      "metadata": {
        "id": "0d37e6d2-6fa6-4669-b639-7d229f57416e"
      },
      "outputs": [],
      "source": [
        "# JCR get Galactic reddening without converting to galactic coords\n",
        "dustdir = './sfddata/'\n",
        "m       = sfdmap.SFDMap(dustdir, scaling=1)\n",
        "ebv     = m.ebv(c.galactic.l.value,c.galactic.b.value, frame='galactic')\n",
        "print('E(B-V) =',ebv)"
      ]
    },
    {
      "cell_type": "code",
      "execution_count": null,
      "id": "6e465dda-e1d8-48a6-adef-68d07c1794f0",
      "metadata": {
        "id": "6e465dda-e1d8-48a6-adef-68d07c1794f0"
      },
      "outputs": [],
      "source": [
        "# alculate the extinction\n",
        "wave = np.array([3543., 4770., 6231, 7625., 9134.]) # ugriz central wavelengths\n",
        "A    = extinction.fitzpatrick99(wave, 3.1*ebv)"
      ]
    },
    {
      "cell_type": "code",
      "execution_count": null,
      "id": "3ac5f140-c8b9-4e78-929c-4571bab96b0f",
      "metadata": {
        "id": "3ac5f140-c8b9-4e78-929c-4571bab96b0f"
      },
      "outputs": [],
      "source": [
        "# JCR plot two quasars and compare their colors\n",
        "#     these are the ugriz magnitudes for quasars 1 and 2\n",
        "q1 = [18.82, 18.81, 18.74, 18.81, 18.89]\n",
        "q2 = [19.37, 19.10, 18.79, 18.72, 18.62]"
      ]
    },
    {
      "cell_type": "code",
      "execution_count": null,
      "id": "9fe5e2ad-9ba5-4bec-812d-ad2a636098c6",
      "metadata": {
        "id": "9fe5e2ad-9ba5-4bec-812d-ad2a636098c6"
      },
      "outputs": [],
      "source": [
        "# JCR visualize them\n",
        "fig, ax = plt.subplots(1, 1, figsize=(2,2))\n",
        "ax.plot(q1[2]-q1[3],q1[1]-q1[2],'.b',markersize=6)\n",
        "ax.plot(q2[2]-q2[3],q2[1]-q2[2],'.r',markersize=6)\n",
        "ax.set_xlabel(r'$r-i$',fontsize=14)\n",
        "ax.set_ylabel(r'$g-r$',fontsize=14)\n",
        "ax.set_ylim([-0.2,0.4])\n",
        "ax.set_xlim([-0.2,0.4])\n",
        "ax.tick_params(axis ='both', direction = 'in',size=5)\n",
        "plt.xticks(fontsize=10)\n",
        "plt.yticks(fontsize=10)\n",
        "plt.tight_layout()\n",
        "plt.show()"
      ]
    },
    {
      "cell_type": "code",
      "execution_count": null,
      "id": "9b32f627-11eb-41f6-8e5a-99a3230c8d46",
      "metadata": {
        "id": "9b32f627-11eb-41f6-8e5a-99a3230c8d46"
      },
      "outputs": [],
      "source": [
        "# JCR sky positions for quasars 1 and 2\n",
        "c1 = SkyCoord(246.933*u.deg,40.795*u.deg)\n",
        "c2 = SkyCoord(236.562*u.deg,2.440*u.deg)\n",
        "\n",
        "# JCR load the dust map\n",
        "#     and get reddening at the quasar positions\n",
        "m       = sfdmap.SFDMap(dustdir, scaling=1)\n",
        "ebv1 = m.ebv(c1.ra.value,c1.dec.value)\n",
        "ebv2 = m.ebv(c2.ra.value,c2.dec.value)\n",
        "\n",
        "# JCR convert from V to ugriz using the Fitzpatrick+99 extinction law\n",
        "A1    = extinction.fitzpatrick99(wave, 3.1*ebv1)\n",
        "A2    = extinction.fitzpatrick99(wave, 3.1*ebv2)\n",
        "\n",
        "# JCR correct quasar 1 and 2 mags for Galactic reddening\n",
        "q1_true = q1-A1\n",
        "q2_true = q2-A2\n",
        "\n",
        "# JCR calculate observed colors\n",
        "gr1 = q1[1]-q1[2]\n",
        "gr2 = q2[1]-q2[2]\n",
        "ri1 = q1[3]-q1[2]\n",
        "ri2 = q2[3]-q2[2]\n",
        "\n",
        "# JCR calculate intrinsic colors\n",
        "gr1_true = q1_true[1]-q1_true[2]\n",
        "gr2_true = q2_true[1]-q2_true[2]\n",
        "ri1_true = q1_true[3]-q1_true[2]\n",
        "ri2_true = q2_true[3]-q2_true[2]"
      ]
    },
    {
      "cell_type": "code",
      "execution_count": null,
      "id": "ec9434a5-11d5-4da2-be3f-7c32fd3ad38c",
      "metadata": {
        "id": "ec9434a5-11d5-4da2-be3f-7c32fd3ad38c"
      },
      "outputs": [],
      "source": [
        "# JCR plot the observed colors and the intrinsic ones\n",
        "#     to see how different they are\n",
        "fig, ax = plt.subplots(1, 1, figsize=(2,2))\n",
        "ax.plot(q1[2]-q1[3],q1[1]-q1[2],'.b',markersize=6,markerfacecolor='white',markeredgewidth=0.5,markeredgecolor='blue')\n",
        "ax.plot(q2[2]-q2[3],q2[1]-q2[2],'.r',markersize=6,markerfacecolor='white',markeredgewidth=0.5,markeredgecolor='red')\n",
        "ax.plot(q1_true[2]-q1_true[3],q1_true[1]-q1_true[2],'.b',markersize=6)\n",
        "ax.plot(q2_true[2]-q2_true[3],q2_true[1]-q2_true[2],'.r',markersize=6)\n",
        "ax.set_xlabel(r'$r-i$',fontsize=14)\n",
        "ax.set_ylabel(r'$g-r$',fontsize=14)\n",
        "ax.set_ylim([-0.2,0.4])\n",
        "ax.set_xlim([-0.2,0.4])\n",
        "ax.tick_params(axis ='both', direction = 'in',size=5)\n",
        "plt.xticks(fontsize=10)\n",
        "plt.yticks(fontsize=10)\n",
        "plt.tight_layout()\n",
        "plt.show()"
      ]
    },
    {
      "cell_type": "markdown",
      "id": "2a917048-8c79-4333-91d0-e7a270465342",
      "metadata": {
        "id": "2a917048-8c79-4333-91d0-e7a270465342"
      },
      "source": [
        "## Calculating luminosity <a class=\"anchor\" id=\"four\"></a>\n",
        "\n",
        "Now that we have covered correcting for extinction, we can calculate the absolute magnitude. This is a measure of what the apparent magnitude of an object would be if it was at a distance of 10 parsecs. In this way, absolute magnitude acts to standardize the brightness of objects, and get's us most of the way to estimating luminosity. Below is the equation for absolute magnitude ($M$), as a function of apparent magnitude ($m$), luminosity distance ($D_L$), and a rather tricky parameter called the K correction ($K_{Corr}$).\n",
        "\n",
        "$M=(m-K_{Corr})-5\\;log_{10}\\frac{D_{L}}{10pc}$\n",
        "\n",
        "We will ignore the concept of K corrections here as they are a little tricky to understand -- in short, they correct for the differing shape of a source's SED as it is redshifted across different photometric bands. They are unique for both the objects you are examining, as well as the specific photometric band you are observing them through, in addition to the redshift range at which you are observing them. Note how the K correction can be thought of as a correction to the apparent magnitude, similar to the extinction seen above.\n",
        "\n",
        "#### Working with Catalog data\n",
        "\n",
        "We will use magnitude data from observations by the Wide Field Infrared Explorer (WISE) to calculate absolute magnitudes and luminosities. For the rest of this tutorial, we will be using a catalog that we have modified from a real source catalog, called GLADE+. It includes RA, dec, redshift, redshift error, and flux data for the B, J, K, W1, and W2 bands, as well as their associated errors, in units of magnitude. In this catalog, the WISE band magnitudes have already been corrected for extinction.\n",
        "\n",
        "First we will import this data and examine it."
      ]
    },
    {
      "cell_type": "code",
      "execution_count": null,
      "id": "d589d62b",
      "metadata": {
        "id": "d589d62b"
      },
      "outputs": [],
      "source": [
        "import numpy as np\n",
        "import pandas as pd\n",
        "glade = pd.read_csv('glade_cat.csv',delimiter=',')\n",
        "glade"
      ]
    },
    {
      "cell_type": "markdown",
      "id": "273289e9",
      "metadata": {
        "id": "273289e9"
      },
      "source": [
        "As we can infer from the headers, this catalog includes sky position, magnitudes in the B, J, H, K, W1, and W2, as well as an estimate of redshift. We will be using the W1 band from WISE here; it is centered in the infrared, near 3.7 microns.\n",
        "\n",
        "Now that the data has been loaded in, we can begin to manipulate it to get absolute magnitudes. The only things we will need here are the luminosity distance, as estimated by astropy using the given redshifts, and the $K_{Corr}$ for the W1 band, which we take from [Kettlety et al. 2018](https://arxiv.org/abs/1709.08316); it is:\n",
        "\n",
        "$K_{Corr,W1}=-7.1\\;log_{10}(1+z)$."
      ]
    },
    {
      "cell_type": "code",
      "execution_count": null,
      "id": "10c32079",
      "metadata": {
        "id": "10c32079"
      },
      "outputs": [],
      "source": [
        "from astropy.cosmology import Planck18 as cosmo\n",
        "import astropy.units as u\n",
        "\n",
        "def Dl(z):\n",
        "    dist = cosmo.luminosity_distance(z)      #[Mpc]\n",
        "    dist = dist * 3.086e24/u.Mpc             #[cm]\n",
        "    return dist\n",
        "\n",
        "def KcorrW1(z):\n",
        "    Kcorr = -7.1*np.log10(1+z)\n",
        "    return Kcorr\n",
        "\n",
        "def AbsMag(m,z):\n",
        "    abs_mag = (m-KcorrW1(z))-5*np.log10(Dl(z)/3.086e19)\n",
        "    return abs_mag"
      ]
    },
    {
      "cell_type": "code",
      "execution_count": null,
      "id": "ee80ab8d",
      "metadata": {
        "id": "ee80ab8d"
      },
      "outputs": [],
      "source": [
        "glade[\"W1 Abs\"] = AbsMag(glade[\"W1\"],glade[\"z_helio\"])\n",
        "glade"
      ]
    },
    {
      "cell_type": "markdown",
      "id": "084e0124",
      "metadata": {
        "id": "084e0124"
      },
      "source": [
        "After getting absolute magnitude, we can further calculate what the luminosity would be using a little knowledge of a sphere's surface area, as well specific information related to the transmission curve of the band. The first of these hopefully we all remember as $4\\pi r^2$, while the second can be found in the rather prodigeous SVO database found at http://svo2.cab.inta-csic.es/theory/fps/index.php?mode=browse.\n",
        "\n",
        "For the W1 WISE band, its zeropoint is $Z_p = 8.1787\\times 10^{-12}$ erg/s/cm$^{-2}$/Ang, and its effective wavelength is $\\lambda_{Eff}=3.3526\\times10^4$ Ang.\n",
        "\n",
        "Recall that we can relate magnitudes and zeropoints as: $m-m_0 = -2.5\\;log_{10}(f/f_0)$\n",
        "\n",
        "Therefore, we can sub in our zeropoint (note: $m_0 = 0$), and get flux in the same units of our zeropoint: $f=Z_p\\;10^{-0.4m}$\n",
        "\n",
        "The last steps are to multiply by our effective wavelength -- thus avoiding integrating over the band thanks to knowledge of shape of the band's transmission curve, and to multiple by the surface area of the sphere that the object has dispersed its light into. Thus, luminosity can be calculated as:\n",
        "\n",
        "$L=Z_p\\;10^{-0.4(m-K_{Corr})}4\\pi D_L^2 \\lambda_{Eff}$\n",
        "\n",
        "Let's create a function to that effect below so that we can plug any W1 magnitude we want into it, and get luminosity out in terms of solar units. Then lets see if we can create a new column in our table for luminosity in the W1 band."
      ]
    },
    {
      "cell_type": "code",
      "execution_count": null,
      "id": "d469f07b",
      "metadata": {
        "id": "d469f07b"
      },
      "outputs": [],
      "source": [
        "def W1_Lum(m,z):\n",
        "    W1_Zp = 9.59502e-11                                                       #W1 AB zeropoint [erg/s/cm2/ang]\n",
        "    W1_lambda_eff = 3.3526e4                                                  #W1 effective wavelength [angstrom]\n",
        "    Lsol = 3.846e33                                                           #Solar luminosity [erg/s]\n",
        "    L = W1_Zp * 10**(-0.4*(m-KcorrW1(z))) * 4*np.pi*Dl(z)**2 * W1_lambda_eff  #Luminosity [erg/s]\n",
        "    L = L/Lsol                                                                #Luminosity [Solar luminosities]\n",
        "    return L"
      ]
    },
    {
      "cell_type": "code",
      "execution_count": null,
      "id": "4ac55363",
      "metadata": {
        "id": "4ac55363"
      },
      "outputs": [],
      "source": [
        "glade[\"W1 Lum\"] = W1_Lum(glade[\"W1\"],glade[\"z_helio\"])\n",
        "glade"
      ]
    },
    {
      "cell_type": "markdown",
      "id": "7bcd8466-8647-490f-a89b-1a04a8bdbb72",
      "metadata": {
        "id": "7bcd8466-8647-490f-a89b-1a04a8bdbb72"
      },
      "source": [
        "## Calculating mass <a class=\"anchor\" id=\"five\"></a>\n",
        "\n",
        "Last, we will calculate the stellar mass of the host galaxy. As we discussed in the electromagnetic observables lecture, stellar mass is a very difficult parameter to estimate -- in addition to being a little fuzzy. This is made clear by the number of stellar mass estimates that exist in the literature: you can always tell something isn't fully nailed down by the breadth of estimates that exist -- well known things in science typically have O(1) definitions.\n",
        "\n",
        "Many of these estimates are based on relating the stellar mass and stellar light -- usually examining a mass to light ratio. Further, in almost all cases, there is an inherit assumption about the total stellar population based on incomplete data, such as one to a few photometric bands.\n",
        "\n",
        "For conciseness and clarity, I will only discuss the stellar mass estimate we will use in this summer school, which relies on the W1 magnitude, and is also from [Kettlety et al. 2018](https://arxiv.org/abs/1709.08316). Kettlety finds that there exists a stellar to mass ratio of:\n",
        "\n",
        "$M_*[M_\\odot]\\;/\\;L_{W1}[L_\\odot] = 0.65 \\pm 0.07$\n",
        "\n",
        "for passive galaxies; while for active galaxies, they find a relation of:\n",
        "\n",
        "$log_{10} \\; (M_*[M_\\odot]\\;/\\;L_{W1}[L_\\odot]) = -0.4 \\pm 0.2$\n",
        "\n",
        "For simplicity let's just assume that all of our galaxies are passive for now. BUT note that this is not true and another metric should be added to decide if the galaxy is star-forming or quiescent (e.g., $W2-W3 \\leq 1.5$ indicates star-forming)."
      ]
    },
    {
      "cell_type": "code",
      "execution_count": null,
      "id": "63a79841-e892-4090-823d-d67ecbd6803a",
      "metadata": {
        "id": "63a79841-e892-4090-823d-d67ecbd6803a"
      },
      "outputs": [],
      "source": [
        "glade[\"Stellar Mass (Quiescent)\"] = 0.65*glade[\"W1 Lum\"]\n",
        "glade"
      ]
    },
    {
      "cell_type": "markdown",
      "id": "e7769e78",
      "metadata": {
        "id": "e7769e78"
      },
      "source": [
        "We can also make estimate the stellar mass if we assumed all of our galaxies were star-forming."
      ]
    },
    {
      "cell_type": "code",
      "execution_count": null,
      "id": "e8bc200d",
      "metadata": {
        "id": "e8bc200d"
      },
      "outputs": [],
      "source": [
        "glade[\"Stellar Mass (Star-Forming)\"] = 10**(-0.4)+glade[\"W1 Lum\"]\n",
        "glade"
      ]
    },
    {
      "cell_type": "code",
      "execution_count": null,
      "id": "25159a2a-99e1-4d11-bf01-0a96c8c4f514",
      "metadata": {
        "id": "25159a2a-99e1-4d11-bf01-0a96c8c4f514"
      },
      "outputs": [],
      "source": []
    },
    {
      "cell_type": "code",
      "execution_count": null,
      "id": "665f47cb",
      "metadata": {
        "id": "665f47cb"
      },
      "outputs": [],
      "source": []
    }
  ],
  "metadata": {
    "kernelspec": {
      "display_name": "Python 3 (ipykernel)",
      "language": "python",
      "name": "python3"
    },
    "language_info": {
      "codemirror_mode": {
        "name": "ipython",
        "version": 3
      },
      "file_extension": ".py",
      "mimetype": "text/x-python",
      "name": "python",
      "nbconvert_exporter": "python",
      "pygments_lexer": "ipython3",
      "version": "3.12.11"
    },
    "colab": {
      "provenance": [],
      "include_colab_link": true
    }
  },
  "nbformat": 4,
  "nbformat_minor": 5
}