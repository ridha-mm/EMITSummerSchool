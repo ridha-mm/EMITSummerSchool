{
 "cells": [
  {
   "cell_type": "code",
   "execution_count": 15,
   "id": "d9e15900",
   "metadata": {},
   "outputs": [
    {
     "name": "stdout",
     "output_type": "stream",
     "text": [
      "LEGWORK version: 0.4.7\n"
     ]
    }
   ],
   "source": [
    "# importing some important legwork module plus some general modules\n",
    "%matplotlib inline\n",
    "%config InlineBackend.figure_format = 'retina'\n",
    "\n",
    "#general modules to import\n",
    "import numpy as np\n",
    "import astropy.units as u\n",
    "import matplotlib.pyplot as plt\n",
    "import matplotlib as mpl\n",
    "from astropy import constants\n",
    "\n",
    "#importing legwork module\n",
    "import legwork as lw\n",
    "\n",
    "# Check if it successfully imported\n",
    "print(f\"LEGWORK version: {lw.__version__}\")\n",
    "\n",
    "#ensure we all get the same anwsers even with randomized answers\n",
    "np.random.seed(3)\n",
    "\n"
   ]
  },
  {
   "cell_type": "code",
   "execution_count": 2,
   "id": "bb67ee38",
   "metadata": {},
   "outputs": [],
   "source": [
    "# Heres a function that may help\n",
    "def create_binary(mass1, mass2, eccentricity = 0.0, orbital_frequency = 1e-4 * u.Hz, distance=8 * u.kpc):\n",
    "  \"\"\"Function to create a binary in LEGWORK\"\"\"\n",
    "\n",
    "  source = lw.source.Source(m_1=mass1, # Primary source mass\n",
    "                            m_2=mass2, # secondary mass\n",
    "                            ecc=eccentricity, # eccentricity\n",
    "                            f_orb=orbital_frequency, #orbital frequency\n",
    "                            dist=distance, # Distance\n",
    "                            interpolate_g=False)\n",
    "  return source"
   ]
  },
  {
   "cell_type": "code",
   "execution_count": 29,
   "id": "71f9a892",
   "metadata": {},
   "outputs": [
    {
     "name": "stdout",
     "output_type": "stream",
     "text": [
      "Orbital frequency: 1.243e-04 Hz\n",
      "Total mass : 3.325e+06 solMass\n",
      "Mass 1 = 2.494e+06 solMass\n",
      "Mass 2 = 8.314e+05 solMass\n",
      "When does this binary merge:[2.20486184]\n",
      "SNR of simple binary = [126781.31847466]\n"
     ]
    }
   ],
   "source": [
    "# Example of how to create as simple binary using the source module.\n",
    "chirp_mass = 1.218e6 * u.M_sun # 1.216 +/- 0.002 x 10^6 Msun\n",
    "q = 3 # 2+/- 1 # getting upper limit\n",
    "t_week = 2\n",
    "t_merge = 2 * 7 * 86400 * u.s\n",
    "c = constants.c.cgs\n",
    "G = constants.G.cgs\n",
    "\n",
    "f_obs = ((1/np.pi) * (5/(256*t_merge))**(3/8) * ((c**3)/(G*chirp_mass))**(5/8)).to_value(u.Hz)\n",
    "f_obs *= u.Hz # for some reason to_value doesnt make the value inherit the units :)\n",
    "\n",
    "print(f\"Orbital frequency: {f_obs:.3e}\")\n",
    "\n",
    "ratio = (q/ (1+q)**2)**(3/5)\n",
    "total_mass = chirp_mass / ratio\n",
    "print(f\"Total mass : {total_mass:.3e}\")\n",
    "\n",
    "#converting total mass and mass ratio to m1 and m2\n",
    "m1 = total_mass * q / (1. + q)\n",
    "m2 = total_mass * 1 / (1. + q)\n",
    "d_obs = 240e3 * u.kpc\n",
    "e_assump = 0\n",
    "\n",
    "print(f\"Mass 1 = {m1:.3e}\")\n",
    "print(f\"Mass 2 = {m2:.3e}\")\n",
    "\n",
    "\n",
    "simple_source = create_binary(m1, m2, orbital_frequency=f_obs, distance=d_obs, eccentricity=e_assump) # creating a binary\n",
    "\n",
    "print(f\"When does this binary merge:{simple_source.get_merger_time().to_value(u.day)}\")\n",
    "\n",
    "print(f\"SNR of simple binary = {simple_source.get_snr()}\")\n"
   ]
  },
  {
   "cell_type": "code",
   "execution_count": null,
   "id": "98f3f011",
   "metadata": {},
   "outputs": [],
   "source": []
  }
 ],
 "metadata": {
  "kernelspec": {
   "display_name": "BBH",
   "language": "python",
   "name": "python3"
  },
  "language_info": {
   "codemirror_mode": {
    "name": "ipython",
    "version": 3
   },
   "file_extension": ".py",
   "mimetype": "text/x-python",
   "name": "python",
   "nbconvert_exporter": "python",
   "pygments_lexer": "ipython3",
   "version": "3.10.6"
  }
 },
 "nbformat": 4,
 "nbformat_minor": 5
}
